{
 "cells": [
  {
   "cell_type": "code",
   "execution_count": 1,
   "metadata": {
    "collapsed": true
   },
   "outputs": [],
   "source": [
    "import pandas as pd\n",
    "import numpy as np\n",
    "import os\n",
    "import xml"
   ]
  },
  {
   "cell_type": "code",
   "execution_count": 2,
   "metadata": {
    "collapsed": false
   },
   "outputs": [],
   "source": [
    "data_folder = os.getcwd()+'/Data'\n",
    "data_file_names = os.listdir(data_folder)\n",
    "\n",
    "# Separate XML file names from XLS since only one is going to be used\n",
    "xml_file_names = [data for data in data_file_names if (data.endswith(\".xml\"))]\n",
    "xls_file_names = [data for data in data_file_names if (data.endswith(\".xls\"))]\n",
    "date_keys = range(1,13)"
   ]
  },
  {
   "cell_type": "code",
   "execution_count": 49,
   "metadata": {
    "collapsed": false
   },
   "outputs": [
    {
     "name": "stdout",
     "output_type": "stream",
     "text": [
      "TOP500_200506.xls\n",
      "WARNING *** OLE2 inconsistency: SSCS size is 0 but SSAT size is non-zero\n",
      "(500, 24)\n",
      "TOP500_200511.xls\n",
      "WARNING *** OLE2 inconsistency: SSCS size is 0 but SSAT size is non-zero\n",
      "(500, 24)\n",
      "TOP500_200606.xls\n",
      "WARNING *** OLE2 inconsistency: SSCS size is 0 but SSAT size is non-zero\n",
      "(500, 24)\n",
      "TOP500_200611.xls\n",
      "WARNING *** OLE2 inconsistency: SSCS size is 0 but SSAT size is non-zero\n",
      "(500, 24)\n",
      "TOP500_200706.xls\n",
      "WARNING *** OLE2 inconsistency: SSCS size is 0 but SSAT size is non-zero\n",
      "(500, 24)\n",
      "TOP500_200711.xls\n",
      "WARNING *** OLE2 inconsistency: SSCS size is 0 but SSAT size is non-zero\n",
      "(500, 24)\n",
      "TOP500_200806.xls\n",
      "(500, 26)\n",
      "TOP500_200811.xls\n",
      "(500, 26)\n",
      "TOP500_200906.xls\n",
      "(500, 26)\n",
      "TOP500_200911.xls\n",
      "(500, 26)\n",
      "TOP500_201006.xls\n",
      "(500, 28)\n",
      "TOP500_201011.xls\n",
      "(500, 27)\n",
      "TOP500_201106.xls\n",
      "(500, 28)\n",
      "TOP500_201111.xls\n",
      "(500, 33)\n",
      "TOP500_201206.xls\n",
      "(500, 36)\n",
      "TOP500_201211.xls\n",
      "(500, 36)\n",
      "TOP500_201306.xls\n",
      "(500, 36)\n",
      "TOP500_201311.xls\n",
      "(500, 35)\n",
      "TOP500_201406.xls\n",
      "(500, 35)\n",
      "TOP500_201411.xls\n",
      "(500, 35)\n",
      "TOP500_201506.xls\n",
      "(500, 35)\n",
      "TOP500_201511.xls\n",
      "(500, 35)\n",
      "TOP500_201606.xls\n",
      "(500, 35)\n"
     ]
    }
   ],
   "source": [
    "df_full = pd.DataFrame([])\n",
    "for i, item in enumerate(xls_file_names):\n",
    "    print item\n",
    "    temp = pd.read_excel(\"./Data/\"+item)\n",
    "    temp['Time'] = pd.Series((np.ones(temp.shape[0])*(i+1)).astype('int'), index=temp.index)\n",
    "\n",
    "    print temp.shape\n",
    "    df_full = df_full.append(temp, ignore_index=False)"
   ]
  },
  {
   "cell_type": "code",
   "execution_count": 50,
   "metadata": {
    "collapsed": false
   },
   "outputs": [
    {
     "data": {
      "text/plain": [
       "0        1\n",
       "1        2\n",
       "2        3\n",
       "3        4\n",
       "4        5\n",
       "5        6\n",
       "6        7\n",
       "7        8\n",
       "8        9\n",
       "9       10\n",
       "10      11\n",
       "11      12\n",
       "12      13\n",
       "13      14\n",
       "14      15\n",
       "15      16\n",
       "16      17\n",
       "17      18\n",
       "18      19\n",
       "19      20\n",
       "20      21\n",
       "21      22\n",
       "22      23\n",
       "23      24\n",
       "24      25\n",
       "25      26\n",
       "26      27\n",
       "27      28\n",
       "28      29\n",
       "29      30\n",
       "      ... \n",
       "470    471\n",
       "471    472\n",
       "472    473\n",
       "473    474\n",
       "474    475\n",
       "475    476\n",
       "476    477\n",
       "477    478\n",
       "478    479\n",
       "479    480\n",
       "480    481\n",
       "481    482\n",
       "482    483\n",
       "483    484\n",
       "484    485\n",
       "485    486\n",
       "486    487\n",
       "487    488\n",
       "488    489\n",
       "489    490\n",
       "490    491\n",
       "491    492\n",
       "492    493\n",
       "493    494\n",
       "494    495\n",
       "495    496\n",
       "496    497\n",
       "497    498\n",
       "498    499\n",
       "499    500\n",
       "Name: Rank, dtype: int64"
      ]
     },
     "execution_count": 50,
     "metadata": {},
     "output_type": "execute_result"
    }
   ],
   "source": [
    " df_full.Rank"
   ]
  },
  {
   "cell_type": "code",
   "execution_count": 51,
   "metadata": {
    "collapsed": false
   },
   "outputs": [
    {
     "data": {
      "text/plain": [
       "0       1\n",
       "1       1\n",
       "2       1\n",
       "3       1\n",
       "4       1\n",
       "5       1\n",
       "6       1\n",
       "7       1\n",
       "8       1\n",
       "9       1\n",
       "10      1\n",
       "11      1\n",
       "12      1\n",
       "13      1\n",
       "14      1\n",
       "15      1\n",
       "16      1\n",
       "17      1\n",
       "18      1\n",
       "19      1\n",
       "20      1\n",
       "21      1\n",
       "22      1\n",
       "23      1\n",
       "24      1\n",
       "25      1\n",
       "26      1\n",
       "27      1\n",
       "28      1\n",
       "29      1\n",
       "       ..\n",
       "470    23\n",
       "471    23\n",
       "472    23\n",
       "473    23\n",
       "474    23\n",
       "475    23\n",
       "476    23\n",
       "477    23\n",
       "478    23\n",
       "479    23\n",
       "480    23\n",
       "481    23\n",
       "482    23\n",
       "483    23\n",
       "484    23\n",
       "485    23\n",
       "486    23\n",
       "487    23\n",
       "488    23\n",
       "489    23\n",
       "490    23\n",
       "491    23\n",
       "492    23\n",
       "493    23\n",
       "494    23\n",
       "495    23\n",
       "496    23\n",
       "497    23\n",
       "498    23\n",
       "499    23\n",
       "Name: Time, dtype: int64"
      ]
     },
     "execution_count": 51,
     "metadata": {},
     "output_type": "execute_result"
    }
   ],
   "source": [
    "df_full.Time"
   ]
  },
  {
   "cell_type": "code",
   "execution_count": null,
   "metadata": {
    "collapsed": true
   },
   "outputs": [],
   "source": []
  }
 ],
 "metadata": {
  "kernelspec": {
   "display_name": "Python 2",
   "language": "python",
   "name": "python2"
  },
  "language_info": {
   "codemirror_mode": {
    "name": "ipython",
    "version": 2
   },
   "file_extension": ".py",
   "mimetype": "text/x-python",
   "name": "python",
   "nbconvert_exporter": "python",
   "pygments_lexer": "ipython2",
   "version": "2.7.11"
  }
 },
 "nbformat": 4,
 "nbformat_minor": 0
}
